{
 "cells": [
  {
   "cell_type": "markdown",
   "id": "46e4a092",
   "metadata": {},
   "source": [
    "# Reto 1\n",
    "Ahora que sabemos realizar análisis básico univariado es momento de poner a prueba los conocimientos adquiridos en la clase para reforzar el aprendizaje"
   ]
  },
  {
   "cell_type": "code",
   "execution_count": null,
   "id": "4ba1a6c6",
   "metadata": {},
   "outputs": [],
   "source": [
    "# Importamos las librerias necesarias para procesamiento de datos\n",
    "import pandas as pd\n",
    "import numpy as np\n",
    "import matplotlib.pyplot as plt\n",
    "import seaborn as sns\n",
    "from matplotlib.ticker import FormatStrFormatter"
   ]
  },
  {
   "cell_type": "markdown",
   "id": "0d45d484",
   "metadata": {},
   "source": [
    "Carga el dataset de beer_train.csv y muestra los primeros 15 datos\n",
    "TIP: Recuerda cambiar tu ruta de datos"
   ]
  },
  {
   "cell_type": "code",
   "execution_count": null,
   "id": "c9991abe",
   "metadata": {},
   "outputs": [],
   "source": [
    "# Cargamos nuestro dataset para explorar los datos\n",
    "path = 'TU RUTA/beer_train.csv'\n",
    "df = pd.read_csv(path, sep = ',')"
   ]
  },
  {
   "cell_type": "markdown",
   "id": "c499fdc0",
   "metadata": {},
   "source": [
    "Muestra cuántas filas y cuántas columnas contiene el dataset de cervezas (Tamaño del dataset)"
   ]
  },
  {
   "cell_type": "code",
   "execution_count": null,
   "id": "20cdc83a",
   "metadata": {},
   "outputs": [],
   "source": [
    "# Escribe tu codigo:\n",
    "\n",
    "\n"
   ]
  },
  {
   "cell_type": "markdown",
   "id": "7377e742",
   "metadata": {},
   "source": [
    "Obten la información relevante del dataset"
   ]
  },
  {
   "cell_type": "code",
   "execution_count": null,
   "id": "c1ab8d32",
   "metadata": {},
   "outputs": [],
   "source": [
    "# Escribe tu codigo:\n",
    "\n",
    "\n"
   ]
  },
  {
   "cell_type": "markdown",
   "id": "a4c0d79d",
   "metadata": {},
   "source": [
    "Desglosa la estadística del data frame"
   ]
  },
  {
   "cell_type": "code",
   "execution_count": null,
   "id": "d9f83897",
   "metadata": {},
   "outputs": [],
   "source": [
    "# Escribe tu codigo:\n",
    "\n",
    "\n"
   ]
  },
  {
   "cell_type": "markdown",
   "id": "f2d05527",
   "metadata": {},
   "source": [
    " Encuentra el número de elementos unicos dentro del data frame"
   ]
  },
  {
   "cell_type": "code",
   "execution_count": null,
   "id": "8b47db14",
   "metadata": {},
   "outputs": [],
   "source": [
    "# Escribe tu codigo:\n",
    "\n",
    "\n"
   ]
  },
  {
   "cell_type": "markdown",
   "id": "662a48f8",
   "metadata": {},
   "source": [
    "Crea una copia del data frame y nombrala como df_clean"
   ]
  },
  {
   "cell_type": "code",
   "execution_count": null,
   "id": "78519163",
   "metadata": {},
   "outputs": [],
   "source": [
    "# Escribe tu codigo:\n",
    "\n",
    "\n"
   ]
  },
  {
   "cell_type": "markdown",
   "id": "38f05057",
   "metadata": {},
   "source": [
    "Muestra los primeros 10 datos del data frame df_clean"
   ]
  },
  {
   "cell_type": "code",
   "execution_count": null,
   "id": "cd6c84e4",
   "metadata": {},
   "outputs": [],
   "source": [
    "# Escribe tu codigo:\n",
    "\n",
    "\n"
   ]
  },
  {
   "cell_type": "markdown",
   "id": "beccae53",
   "metadata": {},
   "source": [
    "Elimina la columna de Id "
   ]
  },
  {
   "cell_type": "code",
   "execution_count": null,
   "id": "5b90de23",
   "metadata": {},
   "outputs": [],
   "source": [
    "# Escribe tu codigo:\n",
    "\n",
    "\n"
   ]
  },
  {
   "cell_type": "markdown",
   "id": "73112840",
   "metadata": {},
   "source": [
    "Busca todos los datos faltantes del data frame"
   ]
  },
  {
   "cell_type": "code",
   "execution_count": null,
   "id": "958fee5d",
   "metadata": {},
   "outputs": [],
   "source": [
    "# Escribe tu codigo:\n",
    "\n",
    "\n"
   ]
  },
  {
   "cell_type": "markdown",
   "id": "e8193e1b",
   "metadata": {},
   "source": [
    "Elimina las columnas que contengan más del 20% de datos faltantes.\n",
    "Recuerda que desde ahora usaremos df_clean y no el df original para no perder los datos originales!!!\n",
    "\n",
    "Tip : 20% del dataset equivale a 4,813 datos"
   ]
  },
  {
   "cell_type": "code",
   "execution_count": null,
   "id": "e0abb4c5",
   "metadata": {},
   "outputs": [],
   "source": [
    "# Escribe tu codigo:\n",
    "\n",
    "\n"
   ]
  },
  {
   "cell_type": "markdown",
   "id": "8bddd074",
   "metadata": {},
   "source": [
    "Realiza un boxplot de la variable \"OG\""
   ]
  },
  {
   "cell_type": "code",
   "execution_count": null,
   "id": "a6a8c4ee",
   "metadata": {},
   "outputs": [],
   "source": [
    "# Escribe tu codigo:\n",
    "\n",
    "\n"
   ]
  },
  {
   "cell_type": "markdown",
   "id": "b2f4b7c4",
   "metadata": {},
   "source": [
    "No se pueden apreciar los datos de una buena forma por lo que vamos a eliminar datos atípicos para obtener una mejor visualización de datos"
   ]
  },
  {
   "cell_type": "markdown",
   "id": "f4f06842",
   "metadata": {},
   "source": [
    "Eliminemos datos atípicos para visualizar de una forma más clara los datos:"
   ]
  },
  {
   "cell_type": "code",
   "execution_count": null,
   "id": "835cb996",
   "metadata": {
    "scrolled": true
   },
   "outputs": [],
   "source": [
    "df_clean.describe().T"
   ]
  },
  {
   "cell_type": "markdown",
   "id": "258cc50e",
   "metadata": {},
   "source": [
    "En nuestra variable \"OG\", el 75% de nuestros datos se encuentran debajo de 1.066, sin embargo, el valor máximo es de 23.445, eliminemos cualquier valor arriba de 1.1 para poder visualizar los datos de una mejor forma:"
   ]
  },
  {
   "cell_type": "code",
   "execution_count": null,
   "id": "9bd75b8e",
   "metadata": {
    "scrolled": true
   },
   "outputs": [],
   "source": [
    "# Codigo de ejemplo:\n",
    "df_clean = df_clean[df_clean['OG'] < 1.1]\n",
    "df_clean.describe().T"
   ]
  },
  {
   "cell_type": "markdown",
   "id": "5f53fefe",
   "metadata": {},
   "source": [
    "Ahora podemos ver con más claridad los datos de la variable \"OG\""
   ]
  },
  {
   "cell_type": "code",
   "execution_count": null,
   "id": "d7914b73",
   "metadata": {},
   "outputs": [],
   "source": [
    "# Codigo de ejemplo:\n",
    "sns.boxplot(df_clean['OG'])"
   ]
  },
  {
   "cell_type": "markdown",
   "id": "dfec429c",
   "metadata": {},
   "source": [
    "Realicemos el mismo ejercicio con la variable \"IBU\" Elimina todos los datos arriba de 125"
   ]
  },
  {
   "cell_type": "code",
   "execution_count": null,
   "id": "e231a3fe",
   "metadata": {},
   "outputs": [],
   "source": [
    "# Codigo de ejemplo:\n",
    "sns.boxplot(df_clean['IBU'])"
   ]
  },
  {
   "cell_type": "code",
   "execution_count": null,
   "id": "0bf41254",
   "metadata": {},
   "outputs": [],
   "source": [
    "# Escribe tu codigo:\n",
    "\n",
    "\n"
   ]
  },
  {
   "cell_type": "markdown",
   "id": "c4047f46",
   "metadata": {},
   "source": [
    "# OPCIONAL:\n",
    "Realiza el balanceo de datos de todas las variables que consideres atípicas"
   ]
  },
  {
   "cell_type": "code",
   "execution_count": null,
   "id": "960eebba",
   "metadata": {},
   "outputs": [],
   "source": [
    "# Escribe tu codigo:\n",
    "\n",
    "\n",
    "\n",
    "\n"
   ]
  },
  {
   "cell_type": "markdown",
   "id": "693b13e4",
   "metadata": {},
   "source": [
    "# Comenzamos nuestro análisis univariado:"
   ]
  },
  {
   "cell_type": "markdown",
   "id": "2b19a5ac",
   "metadata": {},
   "source": [
    "Realizar un boxplot, histplot y violinplot de nuestra variable OG"
   ]
  },
  {
   "cell_type": "code",
   "execution_count": null,
   "id": "dde9a681",
   "metadata": {},
   "outputs": [],
   "source": [
    "# Escribe tu codigo:\n"
   ]
  },
  {
   "cell_type": "code",
   "execution_count": null,
   "id": "da7d92b2",
   "metadata": {},
   "outputs": [],
   "source": [
    "# Escribe tu codigo:\n"
   ]
  },
  {
   "cell_type": "code",
   "execution_count": null,
   "id": "881c89b8",
   "metadata": {},
   "outputs": [],
   "source": [
    "# Escribe tu codigo:\n"
   ]
  },
  {
   "cell_type": "markdown",
   "id": "ee49d52c",
   "metadata": {},
   "source": [
    "Realiza un boxplot, histplot y violinplot de nuestra variable \"IBU\""
   ]
  },
  {
   "cell_type": "code",
   "execution_count": null,
   "id": "d635d3c3",
   "metadata": {},
   "outputs": [],
   "source": [
    "# Escribe tu codigo:\n"
   ]
  },
  {
   "cell_type": "code",
   "execution_count": null,
   "id": "3e159254",
   "metadata": {},
   "outputs": [],
   "source": [
    "# Escribe tu codigo:\n"
   ]
  },
  {
   "cell_type": "code",
   "execution_count": null,
   "id": "0d9cdc9f",
   "metadata": {},
   "outputs": [],
   "source": [
    "# Escribe tu codigo:\n"
   ]
  },
  {
   "cell_type": "markdown",
   "id": "403bb661",
   "metadata": {},
   "source": [
    "Realiza un boxplot de todas las variables numericas"
   ]
  },
  {
   "cell_type": "code",
   "execution_count": null,
   "id": "5ae77662",
   "metadata": {},
   "outputs": [],
   "source": [
    "# Features to plot\n",
    "features = ['OG', 'FG', 'ABV', 'IBU', 'Color', 'BoilSize', 'BoilTime', 'BoilGravity', 'Efficiency']"
   ]
  },
  {
   "cell_type": "code",
   "execution_count": null,
   "id": "7b79c000",
   "metadata": {},
   "outputs": [],
   "source": [
    "# Escribe tu codigo:\n",
    "\n",
    "\n",
    "\n",
    "\n",
    "\n"
   ]
  },
  {
   "cell_type": "markdown",
   "id": "4ce89baf",
   "metadata": {},
   "source": [
    "Realiza un histplot de todas las variables numericas"
   ]
  },
  {
   "cell_type": "code",
   "execution_count": null,
   "id": "bbadd73b",
   "metadata": {},
   "outputs": [],
   "source": [
    "# Features to plot\n",
    "features = ['OG', 'FG', 'ABV', 'IBU', 'Color', 'BoilSize', 'BoilTime', 'BoilGravity', 'Efficiency']"
   ]
  },
  {
   "cell_type": "code",
   "execution_count": null,
   "id": "9aeaf82c",
   "metadata": {},
   "outputs": [],
   "source": [
    "# Escribe tu codigo:\n",
    "\n",
    "\n",
    "\n",
    "\n",
    "\n"
   ]
  },
  {
   "cell_type": "markdown",
   "id": "9ddc2b11",
   "metadata": {},
   "source": [
    "Realiza un violinplot de todas las variables numericas"
   ]
  },
  {
   "cell_type": "code",
   "execution_count": null,
   "id": "3ad9ca1f",
   "metadata": {},
   "outputs": [],
   "source": [
    "# Features to plot\n",
    "features = ['OG', 'FG', 'ABV', 'IBU', 'Color', 'BoilSize', 'BoilTime', 'BoilGravity', 'Efficiency']"
   ]
  },
  {
   "cell_type": "code",
   "execution_count": null,
   "id": "1e92718f",
   "metadata": {},
   "outputs": [],
   "source": [
    "# Escribe tu codigo:\n",
    "\n",
    "\n",
    "\n",
    "\n",
    "\n"
   ]
  }
 ],
 "metadata": {
  "kernelspec": {
   "display_name": "Python 3 (ipykernel)",
   "language": "python",
   "name": "python3"
  },
  "language_info": {
   "codemirror_mode": {
    "name": "ipython",
    "version": 3
   },
   "file_extension": ".py",
   "mimetype": "text/x-python",
   "name": "python",
   "nbconvert_exporter": "python",
   "pygments_lexer": "ipython3",
   "version": "3.11.5"
  }
 },
 "nbformat": 4,
 "nbformat_minor": 5
}
